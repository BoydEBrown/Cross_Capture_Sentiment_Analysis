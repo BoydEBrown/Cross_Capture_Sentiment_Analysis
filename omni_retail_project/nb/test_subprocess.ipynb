{
 "cells": [
  {
   "cell_type": "code",
   "execution_count": 2,
   "metadata": {
    "collapsed": true
   },
   "outputs": [],
   "source": [
    "import subprocess\n",
    "import os"
   ]
  },
  {
   "cell_type": "markdown",
   "metadata": {},
   "source": [
    "#### Explore suprocess functionality"
   ]
  },
  {
   "cell_type": "code",
   "execution_count": 6,
   "metadata": {
    "collapsed": false
   },
   "outputs": [
    {
     "data": {
      "text/plain": [
       "0"
      ]
     },
     "execution_count": 6,
     "metadata": {},
     "output_type": "execute_result"
    }
   ],
   "source": [
    "subprocess.call([\"say\", \"Hi, Boyd\"])"
   ]
  },
  {
   "cell_type": "markdown",
   "metadata": {},
   "source": [
    "####  subprocess for individual .mp4 > .wav  conversion"
   ]
  },
  {
   "cell_type": "code",
   "execution_count": 5,
   "metadata": {
    "collapsed": true
   },
   "outputs": [],
   "source": [
    "#\"ffmpeg -i ${f%%.*}.mp4 -vn -acodec pcm_s16le -ar 44100 -ac 2 ${f%%.*}.wav\";])"
   ]
  },
  {
   "cell_type": "code",
   "execution_count": 24,
   "metadata": {
    "collapsed": false
   },
   "outputs": [],
   "source": [
    "filename = 'UserTesting-1862904G.mp4'\n",
    "mp4_filename = os.path.join('../data/mp4_test/', filename)"
   ]
  },
  {
   "cell_type": "code",
   "execution_count": 33,
   "metadata": {
    "collapsed": false
   },
   "outputs": [],
   "source": [
    "p = subprocess.Popen(['ffmpeg', '-i', mp4_filename, '-vn', '-acodec', 'pcm_s16le',\n",
    "                 '-ar', '44100', '-ac', '2', os.path.splitext(mp4_filename)[0] + '.wav'], \n",
    "                stdout=subprocess.PIPE, \n",
    "                stderr=subprocess.PIPE)"
   ]
  },
  {
   "cell_type": "code",
   "execution_count": 34,
   "metadata": {
    "collapsed": false
   },
   "outputs": [
    {
     "data": {
      "text/plain": [
       "('',\n",
       " \"ffmpeg version 3.0.2 Copyright (c) 2000-2016 the FFmpeg developers\\n  built with Apple LLVM version 7.3.0 (clang-703.0.29)\\n  configuration: --prefix=/usr/local/Cellar/ffmpeg/3.0.2 --enable-shared --enable-pthreads --enable-gpl --enable-version3 --enable-hardcoded-tables --enable-avresample --cc=clang --host-cflags= --host-ldflags= --enable-opencl --enable-libx264 --enable-libmp3lame --enable-libxvid --enable-vda\\n  libavutil      55. 17.103 / 55. 17.103\\n  libavcodec     57. 24.102 / 57. 24.102\\n  libavformat    57. 25.100 / 57. 25.100\\n  libavdevice    57.  0.101 / 57.  0.101\\n  libavfilter     6. 31.100 /  6. 31.100\\n  libavresample   3.  0.  0 /  3.  0.  0\\n  libswscale      4.  0.100 /  4.  0.100\\n  libswresample   2.  0.101 /  2.  0.101\\n  libpostproc    54.  0.100 / 54.  0.100\\nInput #0, mov,mp4,m4a,3gp,3g2,mj2, from '../data/mp4_test/UserTesting-1862904G.mp4':\\n  Metadata:\\n    major_brand     : isom\\n    minor_version   : 512\\n    compatible_brands: isomiso2avc1mp41\\n    creation_time   : 1970-01-01 00:00:00\\n  Duration: 00:19:25.00, start: 0.000000, bitrate: 420 kb/s\\n    Stream #0:0(und): Video: h264 (Constrained Baseline) (avc1 / 0x31637661), yuv420p, 1280x780, 341 kb/s, 5 fps, 5 tbr, 5 tbn, 10 tbc (default)\\n    Metadata:\\n      creation_time   : 1970-01-01 00:00:00\\n      handler_name    : VideoHandler\\n    Stream #0:1(und): Audio: aac (LC) (mp4a / 0x6134706D), 44100 Hz, mono, fltp, 75 kb/s (default)\\n    Metadata:\\n      creation_time   : 1970-01-01 00:00:00\\n      handler_name    : SoundHandler\\nFile 'UserTesting-1862904G.wav' already exists. Overwrite ? [y/N] Not overwriting - exiting\\n\")"
      ]
     },
     "execution_count": 34,
     "metadata": {},
     "output_type": "execute_result"
    }
   ],
   "source": [
    "p.communicate()"
   ]
  },
  {
   "cell_type": "code",
   "execution_count": 18,
   "metadata": {
    "collapsed": false
   },
   "outputs": [
    {
     "data": {
      "text/plain": [
       "('UserTesting-1392254A', '.mp4')"
      ]
     },
     "execution_count": 18,
     "metadata": {},
     "output_type": "execute_result"
    }
   ],
   "source": [
    "fn = 'UserTesting-1392254A.mp4'\n",
    "os.path.splitext(fn)"
   ]
  },
  {
   "cell_type": "markdown",
   "metadata": {},
   "source": [
    "#### Individual  .mp4 > .wav conversion function"
   ]
  },
  {
   "cell_type": "code",
   "execution_count": 37,
   "metadata": {
    "collapsed": true
   },
   "outputs": [],
   "source": [
    "def convert_mp4(file_in, file_out=None):\n",
    "    '''Converts .mp4 to .wav'''\n",
    "    if not file_out:\n",
    "        file_out = os.path.splitext(file_in)[0] + '.wav'\n",
    "    p = subprocess.Popen(['ffmpeg', '-i', file_in, '-vn', '-acodec', 'pcm_s16le',\n",
    "                 '-ar', '44100', '-ac', '2', file_out], \n",
    "                stdout=subprocess.PIPE, \n",
    "                stderr=subprocess.PIPE)\n",
    "    p.communicate()\n",
    "    if p.returncode == 0:\n",
    "        return file_out\n"
   ]
  },
  {
   "cell_type": "code",
   "execution_count": 38,
   "metadata": {
    "collapsed": false
   },
   "outputs": [
    {
     "data": {
      "text/plain": [
       "'../data/mp4_test/UserTesting-1862904G.wav'"
      ]
     },
     "execution_count": 38,
     "metadata": {},
     "output_type": "execute_result"
    }
   ],
   "source": [
    "filename = 'UserTesting-1862904G.mp4'\n",
    "mp4_filename = os.path.join('../data/mp4_test/', filename)\n",
    "wav_filename = convert_mp4(mp4_filename)\n",
    "#\n",
    "if wav_filename: # if converstion was sucessful. \n",
    "    # send to Bluemix for porcessing.\n",
    "    # delete wav_filename...\n",
    "    #os.remove(wav_filename)\n",
    "    "
   ]
  },
  {
   "cell_type": "code",
   "execution_count": null,
   "metadata": {
    "collapsed": true
   },
   "outputs": [],
   "source": []
  }
 ],
 "metadata": {
  "anaconda-cloud": {},
  "kernelspec": {
   "display_name": "Python [Root]",
   "language": "python",
   "name": "Python [Root]"
  },
  "language_info": {
   "codemirror_mode": {
    "name": "ipython",
    "version": 2
   },
   "file_extension": ".py",
   "mimetype": "text/x-python",
   "name": "python",
   "nbconvert_exporter": "python",
   "pygments_lexer": "ipython2",
   "version": "2.7.12"
  }
 },
 "nbformat": 4,
 "nbformat_minor": 0
}
