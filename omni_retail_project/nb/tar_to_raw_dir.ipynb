{
 "cells": [
  {
   "cell_type": "code",
   "execution_count": 1,
   "metadata": {
    "collapsed": true
   },
   "outputs": [],
   "source": [
    "import os"
   ]
  },
  {
   "cell_type": "code",
   "execution_count": 15,
   "metadata": {
    "collapsed": false
   },
   "outputs": [],
   "source": [
    "for root, dirs, files in os.walk(\"/mydir\"):\n",
    "    for file in files:\n",
    "        if file.endswith(\".txt\"):\n",
    "             print(os.path.join(root, file))"
   ]
  },
  {
   "cell_type": "code",
   "execution_count": 11,
   "metadata": {
    "collapsed": true
   },
   "outputs": [],
   "source": [
    "for root, dirs, files in os.walk(\"/Users/boydbrown/omni_retail_project/user_testing_Data\"):\n",
    "    for filename in files:\n",
    "        if filename.endswith(\".xlsx\"):\n",
    "            path_lst = [(os.path.join(root, filename))]\n",
    "            for path in path_lst:\n",
    "                os.rename(path, \"/Users/boydbrown/omni_retail_project/raw_excel/\"+str(filename))"
   ]
  },
  {
   "cell_type": "code",
   "execution_count": 12,
   "metadata": {
    "collapsed": true
   },
   "outputs": [],
   "source": [
    "for root, dirs, files in os.walk(\"/Users/boydbrown/omni_retail_project/user_testing_Data\"):\n",
    "    for filename in files:\n",
    "        if filename.endswith(\".mp4\"):\n",
    "            path_lst = [(os.path.join(root, filename))]\n",
    "            for path in path_lst:\n",
    "                os.rename(path, \"/Users/boydbrown/omni_retail_project/raw_mp4/\"+str(filename))"
   ]
  },
  {
   "cell_type": "code",
   "execution_count": 33,
   "metadata": {
    "collapsed": false
   },
   "outputs": [],
   "source": [
    "for filename in os.listdir(\"/Users/boydbrown/omni_retail_project/raw_mp4\"):\n",
    "    if filename.startswith(\"raw_mp4\"):\n",
    "        os.rename(\"/Users/boydbrown/omni_retail_project/raw_mp4/\" + str(filename), \"/Users/boydbrown/omni_retail_project/raw_mp4/\" + str(filename[7:]))"
   ]
  },
  {
   "cell_type": "code",
   "execution_count": 27,
   "metadata": {
    "collapsed": false
   },
   "outputs": [
    {
     "name": "stdout",
     "output_type": "stream",
     "text": [
      "<type 'str'>\n"
     ]
    }
   ],
   "source": [
    "for filename in os.listdir(\"/Users/boydbrown/omni_retail_project/raw_excel\"):\n",
    "    if filename.startswith(\"raw_excel\"):\n",
    "        os.rename(\"/Users/boydbrown/omni_retail_project/raw_excel/\" + str(filename), \"/Users/boydbrown/omni_retail_project/raw_excel/\" + str(filename[9:]))"
   ]
  },
  {
   "cell_type": "code",
   "execution_count": null,
   "metadata": {
    "collapsed": true
   },
   "outputs": [],
   "source": []
  }
 ],
 "metadata": {
  "kernelspec": {
   "display_name": "Python [Root]",
   "language": "python",
   "name": "Python [Root]"
  },
  "language_info": {
   "codemirror_mode": {
    "name": "ipython",
    "version": 2
   },
   "file_extension": ".py",
   "mimetype": "text/x-python",
   "name": "python",
   "nbconvert_exporter": "python",
   "pygments_lexer": "ipython2",
   "version": "2.7.12"
  }
 },
 "nbformat": 4,
 "nbformat_minor": 0
}
