{
 "cells": [
  {
   "cell_type": "code",
   "execution_count": 1,
   "metadata": {
    "collapsed": true
   },
   "outputs": [],
   "source": [
    "import os"
   ]
  },
  {
   "cell_type": "code",
   "execution_count": 15,
   "metadata": {
    "collapsed": false
   },
   "outputs": [],
   "source": [
    "for root, dirs, files in os.walk(\"/mydir\"):\n",
    "    for file in files:\n",
    "        if file.endswith(\".txt\"):\n",
    "             print(os.path.join(root, file))"
   ]
  },
  {
   "cell_type": "code",
   "execution_count": 11,
   "metadata": {
    "collapsed": true
   },
   "outputs": [],
   "source": [
    "for root, dirs, files in os.walk(\"/Users/boydbrown/omni_retail_project/user_testing_Data\"):\n",
    "    for filename in files:\n",
    "        if filename.endswith(\".xlsx\"):\n",
    "            path_lst = [(os.path.join(root, filename))]\n",
    "            for path in path_lst:\n",
    "                os.rename(path, \"/Users/boydbrown/omni_retail_project/raw_excel/\"+str(filename))"
   ]
  },
  {
   "cell_type": "code",
   "execution_count": 12,
   "metadata": {
    "collapsed": true
   },
   "outputs": [],
   "source": [
    "for root, dirs, files in os.walk(\"/Users/boydbrown/omni_retail_project/user_testing_Data\"):\n",
    "    for filename in files:\n",
    "        if filename.endswith(\".mp4\"):\n",
    "            path_lst = [(os.path.join(root, filename))]\n",
    "            for path in path_lst:\n",
    "                os.rename(path, \"/Users/boydbrown/omni_retail_project/raw_mp4/\"+str(filename))"
   ]
  },
  {
   "cell_type": "code",
   "execution_count": 33,
   "metadata": {
    "collapsed": false
   },
   "outputs": [],
   "source": [
    "for filename in os.listdir(\"/Users/boydbrown/omni_retail_project/raw_mp4\"):\n",
    "    if filename.startswith(\"raw_mp4\"):\n",
    "        os.rename(\"/Users/boydbrown/omni_retail_project/raw_mp4/\" + str(filename),\n",
    "                  \"/Users/boydbrown/omni_retail_project/raw_mp4/\" + str(filename[7:]))"
   ]
  },
  {
   "cell_type": "code",
   "execution_count": 27,
   "metadata": {
    "collapsed": false
   },
   "outputs": [
    {
     "name": "stdout",
     "output_type": "stream",
     "text": [
      "<type 'str'>\n"
     ]
    }
   ],
   "source": [
    "for filename in os.listdir(\"/Users/boydbrown/omni_retail_project/raw_excel\"):\n",
    "    if filename.startswith(\"raw_excel\"):\n",
    "        os.rename(\"/Users/boydbrown/omni_retail_project/raw_excel/\" + str(filename), \n",
    "                  \"/Users/boydbrown/omni_retail_project/raw_excel/\" + str(filename[9:]))"
   ]
  },
  {
   "cell_type": "code",
   "execution_count": 19,
   "metadata": {
    "collapsed": false
   },
   "outputs": [],
   "source": [
    "# Move .csv to csv_from_xlsx\n",
    "for filename in os.listdir(\"/Users/boydbrown/Cross_Capture_Sentiment_Analysis/omni_retail_project/data/raw_excel/\"):\n",
    "    if filename.endswith(\".csv\"):\n",
    "        os.rename(\"/Users/boydbrown/Cross_Capture_Sentiment_Analysis/omni_retail_project/data/raw_excel/\" \n",
    "                  + filename,\n",
    "                 \"/Users/boydbrown/Cross_Capture_Sentiment_Analysis/omni_retail_project/data/csv_from_xlsx/\" \n",
    "                  + filename)"
   ]
  },
  {
   "cell_type": "code",
   "execution_count": 16,
   "metadata": {
    "collapsed": false
   },
   "outputs": [
    {
     "data": {
      "text/plain": [
       "[]"
      ]
     },
     "execution_count": 16,
     "metadata": {},
     "output_type": "execute_result"
    }
   ],
   "source": [
    "os.listdir(\"/Users/boydbrown/Cross_Capture_Sentiment_Analysis/omni_retail_project/data/csv_from_xlsx/\")"
   ]
  },
  {
   "cell_type": "code",
   "execution_count": 17,
   "metadata": {
    "collapsed": false
   },
   "outputs": [
    {
     "name": "stdout",
     "output_type": "stream",
     "text": [
      "/Users/boydbrown/Cross_Capture_Sentiment_Analysis/omni_retail_project/data/csv_from_xlsx/1467210707-study-1862979.csv\n",
      "/Users/boydbrown/Cross_Capture_Sentiment_Analysis/omni_retail_project/data/csv_from_xlsx/1467212290-study-1862904.csv\n",
      "/Users/boydbrown/Cross_Capture_Sentiment_Analysis/omni_retail_project/data/csv_from_xlsx/1467645805-study-1857253.csv\n",
      "/Users/boydbrown/Cross_Capture_Sentiment_Analysis/omni_retail_project/data/csv_from_xlsx/1467646701-study-1851731.csv\n",
      "/Users/boydbrown/Cross_Capture_Sentiment_Analysis/omni_retail_project/data/csv_from_xlsx/1467646834-study-1857027.csv\n",
      "/Users/boydbrown/Cross_Capture_Sentiment_Analysis/omni_retail_project/data/csv_from_xlsx/1467649946-study-1845026.csv\n",
      "/Users/boydbrown/Cross_Capture_Sentiment_Analysis/omni_retail_project/data/csv_from_xlsx/1467649951-study-1845030.csv\n",
      "/Users/boydbrown/Cross_Capture_Sentiment_Analysis/omni_retail_project/data/csv_from_xlsx/1467649956-study-1851091.csv\n",
      "/Users/boydbrown/Cross_Capture_Sentiment_Analysis/omni_retail_project/data/csv_from_xlsx/1467649960-study-1851725.csv\n",
      "/Users/boydbrown/Cross_Capture_Sentiment_Analysis/omni_retail_project/data/csv_from_xlsx/1467649966-study-1851728.csv\n",
      "/Users/boydbrown/Cross_Capture_Sentiment_Analysis/omni_retail_project/data/csv_from_xlsx/1467650819-study-1828869.csv\n",
      "/Users/boydbrown/Cross_Capture_Sentiment_Analysis/omni_retail_project/data/csv_from_xlsx/1467650823-study-1837090.csv\n",
      "/Users/boydbrown/Cross_Capture_Sentiment_Analysis/omni_retail_project/data/csv_from_xlsx/1467650836-study-1844996.csv\n",
      "/Users/boydbrown/Cross_Capture_Sentiment_Analysis/omni_retail_project/data/csv_from_xlsx/1467650841-study-1845021.csv\n",
      "/Users/boydbrown/Cross_Capture_Sentiment_Analysis/omni_retail_project/data/csv_from_xlsx/1467652579-study-1819804.csv\n",
      "/Users/boydbrown/Cross_Capture_Sentiment_Analysis/omni_retail_project/data/csv_from_xlsx/1467652588-study-1828857.csv\n",
      "/Users/boydbrown/Cross_Capture_Sentiment_Analysis/omni_retail_project/data/csv_from_xlsx/1467652593-study-1828864.csv\n",
      "/Users/boydbrown/Cross_Capture_Sentiment_Analysis/omni_retail_project/data/csv_from_xlsx/1467652598-study-1828865.csv\n",
      "/Users/boydbrown/Cross_Capture_Sentiment_Analysis/omni_retail_project/data/csv_from_xlsx/1467653404-study-1774962.csv\n",
      "/Users/boydbrown/Cross_Capture_Sentiment_Analysis/omni_retail_project/data/csv_from_xlsx/1467653408-study-1774974.csv\n",
      "/Users/boydbrown/Cross_Capture_Sentiment_Analysis/omni_retail_project/data/csv_from_xlsx/1467653413-study-1781520.csv\n",
      "/Users/boydbrown/Cross_Capture_Sentiment_Analysis/omni_retail_project/data/csv_from_xlsx/1467653418-study-1781583.csv\n",
      "/Users/boydbrown/Cross_Capture_Sentiment_Analysis/omni_retail_project/data/csv_from_xlsx/1467653423-study-1794461.csv\n",
      "/Users/boydbrown/Cross_Capture_Sentiment_Analysis/omni_retail_project/data/csv_from_xlsx/1467654640-study-1772023.csv\n",
      "/Users/boydbrown/Cross_Capture_Sentiment_Analysis/omni_retail_project/data/csv_from_xlsx/1467654646-study-1772035.csv\n",
      "/Users/boydbrown/Cross_Capture_Sentiment_Analysis/omni_retail_project/data/csv_from_xlsx/1467654651-study-1772041.csv\n",
      "/Users/boydbrown/Cross_Capture_Sentiment_Analysis/omni_retail_project/data/csv_from_xlsx/1467654656-study-1772358.csv\n",
      "/Users/boydbrown/Cross_Capture_Sentiment_Analysis/omni_retail_project/data/csv_from_xlsx/1467654661-study-1772359.csv\n",
      "/Users/boydbrown/Cross_Capture_Sentiment_Analysis/omni_retail_project/data/csv_from_xlsx/1467655577-study-1758820.csv\n",
      "/Users/boydbrown/Cross_Capture_Sentiment_Analysis/omni_retail_project/data/csv_from_xlsx/1467655583-study-1758900.csv\n",
      "/Users/boydbrown/Cross_Capture_Sentiment_Analysis/omni_retail_project/data/csv_from_xlsx/1467655590-study-1771825.csv\n",
      "/Users/boydbrown/Cross_Capture_Sentiment_Analysis/omni_retail_project/data/csv_from_xlsx/1467655595-study-1771859.csv\n",
      "/Users/boydbrown/Cross_Capture_Sentiment_Analysis/omni_retail_project/data/csv_from_xlsx/1467655599-study-1772008.csv\n",
      "/Users/boydbrown/Cross_Capture_Sentiment_Analysis/omni_retail_project/data/csv_from_xlsx/1467656511-study-1602328.csv\n",
      "/Users/boydbrown/Cross_Capture_Sentiment_Analysis/omni_retail_project/data/csv_from_xlsx/1467656525-study-1740325.csv\n",
      "/Users/boydbrown/Cross_Capture_Sentiment_Analysis/omni_retail_project/data/csv_from_xlsx/1467656529-study-1740337.csv\n",
      "/Users/boydbrown/Cross_Capture_Sentiment_Analysis/omni_retail_project/data/csv_from_xlsx/1467656534-study-1740340.csv\n",
      "/Users/boydbrown/Cross_Capture_Sentiment_Analysis/omni_retail_project/data/csv_from_xlsx/1467656539-study-1740342.csv\n",
      "/Users/boydbrown/Cross_Capture_Sentiment_Analysis/omni_retail_project/data/csv_from_xlsx/1467657475-study-1586035.csv\n",
      "/Users/boydbrown/Cross_Capture_Sentiment_Analysis/omni_retail_project/data/csv_from_xlsx/1467657481-study-1586099.csv\n",
      "/Users/boydbrown/Cross_Capture_Sentiment_Analysis/omni_retail_project/data/csv_from_xlsx/1467657484-study-1589750.csv\n",
      "/Users/boydbrown/Cross_Capture_Sentiment_Analysis/omni_retail_project/data/csv_from_xlsx/1467657489-study-1593995.csv\n",
      "/Users/boydbrown/Cross_Capture_Sentiment_Analysis/omni_retail_project/data/csv_from_xlsx/1467657494-study-1598925.csv\n",
      "/Users/boydbrown/Cross_Capture_Sentiment_Analysis/omni_retail_project/data/csv_from_xlsx/1467657499-study-1598937.csv\n",
      "/Users/boydbrown/Cross_Capture_Sentiment_Analysis/omni_retail_project/data/csv_from_xlsx/1467658468-study-1392254.csv\n",
      "/Users/boydbrown/Cross_Capture_Sentiment_Analysis/omni_retail_project/data/csv_from_xlsx/1467658471-study-1558119.csv\n",
      "/Users/boydbrown/Cross_Capture_Sentiment_Analysis/omni_retail_project/data/csv_from_xlsx/1467658477-study-1573737.csv\n",
      "/Users/boydbrown/Cross_Capture_Sentiment_Analysis/omni_retail_project/data/csv_from_xlsx/1467658482-study-1575117.csv\n",
      "/Users/boydbrown/Cross_Capture_Sentiment_Analysis/omni_retail_project/data/csv_from_xlsx/1467658486-study-1578566.csv\n",
      "/Users/boydbrown/Cross_Capture_Sentiment_Analysis/omni_retail_project/data/csv_from_xlsx/1467658492-study-1586035.csv\n"
     ]
    }
   ],
   "source": [
    "for filename in os.listdir(\"/Users/boydbrown/Cross_Capture_Sentiment_Analysis/omni_retail_project/data/raw_excel\"):\n",
    "    if filename.endswith(\".csv\"):\n",
    "        print \"/Users/boydbrown/Cross_Capture_Sentiment_Analysis/omni_retail_project/data/csv_from_xlsx/\" + filename"
   ]
  },
  {
   "cell_type": "code",
   "execution_count": 13,
   "metadata": {
    "collapsed": false
   },
   "outputs": [
    {
     "data": {
      "text/plain": [
       "str"
      ]
     },
     "execution_count": 13,
     "metadata": {},
     "output_type": "execute_result"
    }
   ],
   "source": [
    "type(filename)"
   ]
  },
  {
   "cell_type": "code",
   "execution_count": null,
   "metadata": {
    "collapsed": true
   },
   "outputs": [],
   "source": []
  }
 ],
 "metadata": {
  "anaconda-cloud": {},
  "kernelspec": {
   "display_name": "Python [Root]",
   "language": "python",
   "name": "Python [Root]"
  },
  "language_info": {
   "codemirror_mode": {
    "name": "ipython",
    "version": 2
   },
   "file_extension": ".py",
   "mimetype": "text/x-python",
   "name": "python",
   "nbconvert_exporter": "python",
   "pygments_lexer": "ipython2",
   "version": "2.7.12"
  }
 },
 "nbformat": 4,
 "nbformat_minor": 0
}
