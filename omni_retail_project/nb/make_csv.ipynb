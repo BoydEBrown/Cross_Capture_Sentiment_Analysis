{
 "cells": [
  {
   "cell_type": "code",
   "execution_count": null,
   "metadata": {
    "collapsed": false
   },
   "outputs": [],
   "source": [
    "import os\n",
    "import re\n",
    "import csv\n",
    "import pandas as pd\n",
    "from sklearn.feature_extraction.text import TfidfVectorizer, CountVectorizer\n",
    "from sklearn.decomposition import NMF, LatentDirichletAllocation"
   ]
  },
  {
   "cell_type": "markdown",
   "metadata": {},
   "source": [
    "#### Find all the .rtf files."
   ]
  },
  {
   "cell_type": "code",
   "execution_count": null,
   "metadata": {
    "collapsed": false
   },
   "outputs": [],
   "source": [
    "for root, dirs, files in os.walk(\"/Users/boydbrown/Desktop/voice_base_text_test/\"):\n",
    "    for filename in files:\n",
    "        if filename.endswith(\".rtf\"):\n",
    "            path_lst = [(os.path.join(root, filename))]\n",
    "            for path in path_lst:\n",
    "                pass"
   ]
  },
  {
   "cell_type": "markdown",
   "metadata": {},
   "source": [
    "### Make a csv containing transcriptions of user-tester audio transcripts:\n",
    "This bit finds all of the .rtf files in a directory:\n",
    "    - Makes a list of the .rft files.\n",
    "    - For each file: \n",
    "        - opens file.\n",
    "        - Does some regex cleaning. \n",
    "        - Opens the csv write-to file.\n",
    "        - writes the .rtf file name and regex text to the csv write-to file.\n",
    "Input = bunch of text files (audio transcriptions) \n",
    "output = Single "
   ]
  },
  {
   "cell_type": "code",
   "execution_count": null,
   "metadata": {
    "collapsed": false
   },
   "outputs": [],
   "source": [
    "walk_path = \"/Users/boydbrown/Desktop/voice_base_text_test/\"\n",
    "test_csv ='/Users/boydbrown/Desktop/voice_base_text_test/test.csv'\n",
    "path_lst = []\n",
    "errors = []\n",
    "for filename in os.listdir(walk_path):\n",
    "    if filename.endswith(\".rtf\"):\n",
    "        path_lst.append(os.path.join(walk_path, filename))\n",
    "for path in path_lst:\n",
    "    lable = os.path.splitext(os.path.basename(path))[0]\n",
    "    with open(path, 'r') as f1:\n",
    "        f1_line = f1.read()\n",
    "        m = re.match(\".*f1(.*)\\}\\r\\n\", f1_line, re.DOTALL)\n",
    "    with open(test_csv, 'a') as f2:\n",
    "        writer = csv.writer(f2)\n",
    "        if m is not None: \n",
    "            writer.writerow((lable, m.groups()[0]))\n",
    "        else:\n",
    "            m = re.match(\".*f0(.*)\\}\\r\\n\", f1_line, re.DOTALL)\n",
    "            if m is not None: \n",
    "                writer.writerow((lable, m.groups()[0]))\n",
    "            else:\n",
    "                m = re.match(\".*cf0(.*)\\n}\", regex_test_text, re.DOTALL)\n",
    "                if m is not None: \n",
    "                    writer.writerow((lable, m.groups()[0]))\n",
    "                else:\n",
    "                    errors.append(path)\n",
    "print \"%s files successfully loaded into %s.\" %(len(path_lst), \n",
    "                                                os.path.basename(test_csv))\n",
    "print \"%s files failed to load.\" %(len(errors))\n"
   ]
  },
  {
   "cell_type": "code",
   "execution_count": null,
   "metadata": {
    "collapsed": false
   },
   "outputs": [],
   "source": [
    "print errors"
   ]
  },
  {
   "cell_type": "code",
   "execution_count": null,
   "metadata": {
    "collapsed": false
   },
   "outputs": [],
   "source": [
    "df = pd.read_csv(test_csv, header=None)"
   ]
  },
  {
   "cell_type": "code",
   "execution_count": null,
   "metadata": {
    "collapsed": false,
    "scrolled": true
   },
   "outputs": [],
   "source": [
    "df.head(25)"
   ]
  },
  {
   "cell_type": "code",
   "execution_count": null,
   "metadata": {
    "collapsed": false
   },
   "outputs": [],
   "source": [
    "df.info()"
   ]
  },
  {
   "cell_type": "code",
   "execution_count": null,
   "metadata": {
    "collapsed": false
   },
   "outputs": [],
   "source": [
    "df.shape"
   ]
  },
  {
   "cell_type": "markdown",
   "metadata": {},
   "source": [
    "#### Run to clear test_csv:"
   ]
  },
  {
   "cell_type": "code",
   "execution_count": null,
   "metadata": {
    "collapsed": false
   },
   "outputs": [],
   "source": [
    "f = open(test_csv, \"w\")\n",
    "f.truncate()\n",
    "f.close()\n",
    "f = open(test_csv, \"r\")\n",
    "f.read()"
   ]
  },
  {
   "cell_type": "markdown",
   "metadata": {},
   "source": [
    "### Test csv_builder.py. AKA production csv"
   ]
  },
  {
   "cell_type": "code",
   "execution_count": null,
   "metadata": {
    "collapsed": false
   },
   "outputs": [],
   "source": [
    "df = pd.read_csv(test_csv, header=None)\n",
    "df.head(25)"
   ]
  },
  {
   "cell_type": "code",
   "execution_count": null,
   "metadata": {
    "collapsed": false,
    "scrolled": true
   },
   "outputs": [],
   "source": [
    "product_ut_csv = '/Users/boydbrown/Cross_Capture_Sentiment_Analysis/omni_retail_project/data/analysis_base_tables/ut_transcriptions.csv'\n",
    "df = pd.read_csv(product_ut_csv, header=None)\n",
    "df.head(25)"
   ]
  },
  {
   "cell_type": "markdown",
   "metadata": {},
   "source": [
    "### Stop!!! Think! Do you want to clear your production csv?!"
   ]
  },
  {
   "cell_type": "code",
   "execution_count": null,
   "metadata": {
    "collapsed": true
   },
   "outputs": [],
   "source": [
    "f = open(product_ut_csv, \"w\")\n",
    "f.truncate()\n",
    "f.close()\n",
    "f = open(product_ut_csv, \"r\")\n",
    "f.read()"
   ]
  },
  {
   "cell_type": "markdown",
   "metadata": {},
   "source": [
    "#### Regex awesomeness"
   ]
  },
  {
   "cell_type": "code",
   "execution_count": null,
   "metadata": {
    "collapsed": false
   },
   "outputs": [],
   "source": [
    "import re"
   ]
  },
  {
   "cell_type": "code",
   "execution_count": null,
   "metadata": {
    "collapsed": false
   },
   "outputs": [],
   "source": [
    "regex_test_text = open('/Users/boydbrown/Desktop/voice_base_text_test/UserTesting-1862904A.rtf', 'r')\n",
    "regex_test_text = regex_test_text.read()\n",
    "print regex_test_text"
   ]
  },
  {
   "cell_type": "code",
   "execution_count": null,
   "metadata": {
    "collapsed": false
   },
   "outputs": [],
   "source": [
    "m = re.match(\".*cf0(.*)\\}\", regex_test_text, re.DOTALL)"
   ]
  },
  {
   "cell_type": "code",
   "execution_count": null,
   "metadata": {
    "collapsed": false
   },
   "outputs": [],
   "source": [
    "m.groups()[0]"
   ]
  },
  {
   "cell_type": "code",
   "execution_count": null,
   "metadata": {
    "collapsed": false
   },
   "outputs": [],
   "source": [
    "m.groups()[0]"
   ]
  },
  {
   "cell_type": "code",
   "execution_count": null,
   "metadata": {
    "collapsed": false
   },
   "outputs": [],
   "source": [
    "test_text = '/Users/boydbrown/Desktop/voice_base_text_test/UserTesting-1862904C.rtf'\n",
    "test_csv ='/Users/boydbrown/Desktop/voice_base_text_test/test.csv'\n",
    "with open(test_text, 'r') as f1:\n",
    "    with open(test_csv, 'a') as f2:\n",
    "        f1_line = f1.read()\n",
    "        m = re.match(\".*f1(.*)\\}\\r\\n\", f1_line, re.DOTALL)\n",
    "        f2.write(m.groups()[0])"
   ]
  },
  {
   "cell_type": "code",
   "execution_count": null,
   "metadata": {
    "collapsed": true
   },
   "outputs": [],
   "source": []
  }
 ],
 "metadata": {
  "kernelspec": {
   "display_name": "Python [Root]",
   "language": "python",
   "name": "Python [Root]"
  },
  "language_info": {
   "codemirror_mode": {
    "name": "ipython",
    "version": 2
   },
   "file_extension": ".py",
   "mimetype": "text/x-python",
   "name": "python",
   "nbconvert_exporter": "python",
   "pygments_lexer": "ipython2",
   "version": "2.7.12"
  }
 },
 "nbformat": 4,
 "nbformat_minor": 0
}
