{
 "cells": [
  {
   "cell_type": "code",
   "execution_count": 2,
   "metadata": {
    "collapsed": false
   },
   "outputs": [],
   "source": [
    "import os\n",
    "import re\n",
    "import csv\n",
    "import pandas as pd\n",
    "from sklearn.feature_extraction.text import TfidfVectorizer, CountVectorizer\n",
    "from sklearn.decomposition import NMF, LatentDirichletAllocation"
   ]
  },
  {
   "cell_type": "markdown",
   "metadata": {},
   "source": [
    "#### Find all the .rtf files."
   ]
  },
  {
   "cell_type": "code",
   "execution_count": null,
   "metadata": {
    "collapsed": false
   },
   "outputs": [],
   "source": [
    "for root, dirs, files in os.walk(\"/Users/boydbrown/Desktop/voice_base_text_test/\"):\n",
    "    for filename in files:\n",
    "        if filename.endswith(\".rtf\"):\n",
    "            path_lst = [(os.path.join(root, filename))]\n",
    "            for path in path_lst:\n",
    "                pass"
   ]
  },
  {
   "cell_type": "markdown",
   "metadata": {},
   "source": [
    "### Make a csv containing transcriptions of user-tester audio transcripts:\n",
    "This bit finds all of the .rtf files in a directory:\n",
    "    - Makes a list of the .rft files.\n",
    "    - For each file: \n",
    "        - opens file.\n",
    "        - Does some regex cleaning. \n",
    "        - Opens the csv write-to file.\n",
    "        - writes the .rtf file name and regex text to the csv write-to file.\n",
    "Input = bunch of text files (audio transcriptions) \n",
    "output = Single "
   ]
  },
  {
   "cell_type": "code",
   "execution_count": null,
   "metadata": {
    "collapsed": false
   },
   "outputs": [],
   "source": [
    "walk_path = \"/Users/boydbrown/Desktop/voice_base_text_test/\"\n",
    "test_csv ='/Users/boydbrown/Desktop/voice_base_text_test/test.csv'\n",
    "path_lst = []\n",
    "errors = []\n",
    "for filename in os.listdir(walk_path):\n",
    "    if filename.endswith(\".rtf\"):\n",
    "        path_lst.append(os.path.join(walk_path, filename))\n",
    "for path in path_lst:\n",
    "    lable = os.path.splitext(os.path.basename(path))[0]\n",
    "    with open(path, 'r') as f1:\n",
    "        f1_line = f1.read()\n",
    "        m = re.match(\".*f1(.*)\\}\\r\\n\", f1_line, re.DOTALL)\n",
    "    with open(test_csv, 'a') as f2:\n",
    "        writer = csv.writer(f2)\n",
    "        if m is not None: \n",
    "            writer.writerow((lable, m.groups()[0]))\n",
    "        else:\n",
    "            m = re.match(\".*f0(.*)\\}\\r\\n\", f1_line, re.DOTALL)\n",
    "            if m is not None: \n",
    "                writer.writerow((lable, m.groups()[0]))\n",
    "            else:\n",
    "                m = re.match(\".*cf0(.*)\\n}\", regex_test_text, re.DOTALL)\n",
    "                if m is not None: \n",
    "                    writer.writerow((lable, m.groups()[0]))\n",
    "                else:\n",
    "                    errors.append(path)\n",
    "print \"%s files successfully loaded into %s.\" %(len(path_lst), \n",
    "                                                os.path.basename(test_csv))\n",
    "print \"%s files failed to load.\" %(len(errors))\n"
   ]
  },
  {
   "cell_type": "code",
   "execution_count": null,
   "metadata": {
    "collapsed": false
   },
   "outputs": [],
   "source": [
    "print errors"
   ]
  },
  {
   "cell_type": "code",
   "execution_count": null,
   "metadata": {
    "collapsed": false
   },
   "outputs": [],
   "source": [
    "df = pd.read_csv(test_csv, header=None)"
   ]
  },
  {
   "cell_type": "code",
   "execution_count": null,
   "metadata": {
    "collapsed": false,
    "scrolled": true
   },
   "outputs": [],
   "source": [
    "df.head(25)"
   ]
  },
  {
   "cell_type": "code",
   "execution_count": null,
   "metadata": {
    "collapsed": false
   },
   "outputs": [],
   "source": [
    "df.info()"
   ]
  },
  {
   "cell_type": "code",
   "execution_count": null,
   "metadata": {
    "collapsed": false
   },
   "outputs": [],
   "source": [
    "df.shape"
   ]
  },
  {
   "cell_type": "markdown",
   "metadata": {},
   "source": [
    "#### Run to clear test_csv:"
   ]
  },
  {
   "cell_type": "code",
   "execution_count": null,
   "metadata": {
    "collapsed": false
   },
   "outputs": [],
   "source": [
    "f = open(test_csv, \"w\")\n",
    "f.truncate()\n",
    "f.close()\n",
    "f = open(test_csv, \"r\")\n",
    "f.read()"
   ]
  },
  {
   "cell_type": "markdown",
   "metadata": {},
   "source": [
    "### Test csv_builder.py. AKA production csv"
   ]
  },
  {
   "cell_type": "code",
   "execution_count": 7,
   "metadata": {
    "collapsed": false,
    "scrolled": true
   },
   "outputs": [
    {
     "data": {
      "text/html": [
       "<div>\n",
       "<table border=\"1\" class=\"dataframe\">\n",
       "  <thead>\n",
       "    <tr style=\"text-align: right;\">\n",
       "      <th></th>\n",
       "      <th>0</th>\n",
       "      <th>1</th>\n",
       "    </tr>\n",
       "  </thead>\n",
       "  <tbody>\n",
       "    <tr>\n",
       "      <th>0</th>\n",
       "      <td>UserTesting-1392254A</td>\n",
       "      <td>OK so I have to find a laptop the best meets ...</td>\n",
       "    </tr>\n",
       "    <tr>\n",
       "      <th>1</th>\n",
       "      <td>UserTesting-1392254B</td>\n",
       "      <td>AND I'M ALREADY.  Ok to start.  Very well opt...</td>\n",
       "    </tr>\n",
       "    <tr>\n",
       "      <th>2</th>\n",
       "      <td>UserTesting-1392254C</td>\n",
       "      <td>OK so I'm looking for a laptop because I've s...</td>\n",
       "    </tr>\n",
       "    <tr>\n",
       "      <th>3</th>\n",
       "      <td>UserTesting-1392254D</td>\n",
       "      <td>OK so I have opened up here to median Medion ...</td>\n",
       "    </tr>\n",
       "    <tr>\n",
       "      <th>4</th>\n",
       "      <td>UserTesting-1558119A</td>\n",
       "      <td>Now you use the because you're asked her see ...</td>\n",
       "    </tr>\n",
       "    <tr>\n",
       "      <th>5</th>\n",
       "      <td>UserTesting-1558119B</td>\n",
       "      <td>Well it started used to babies or Iscar sci f...</td>\n",
       "    </tr>\n",
       "    <tr>\n",
       "      <th>6</th>\n",
       "      <td>UserTesting-1558119C</td>\n",
       "      <td>OK shopping for baby car seats today.  It loo...</td>\n",
       "    </tr>\n",
       "    <tr>\n",
       "      <th>7</th>\n",
       "      <td>UserTesting-1558119D</td>\n",
       "      <td>Yeah you see that these are US car seat or wh...</td>\n",
       "    </tr>\n",
       "    <tr>\n",
       "      <th>8</th>\n",
       "      <td>UserTesting-1558119E</td>\n",
       "      <td>OK now here's the Babies R Us car seat finder...</td>\n",
       "    </tr>\n",
       "    <tr>\n",
       "      <th>9</th>\n",
       "      <td>UserTesting-1558119F</td>\n",
       "      <td>OK here I am on the car seat finder.  So I'm ...</td>\n",
       "    </tr>\n",
       "    <tr>\n",
       "      <th>10</th>\n",
       "      <td>UserTesting-1558119G</td>\n",
       "      <td>OK so now I'm starting to search the internet...</td>\n",
       "    </tr>\n",
       "    <tr>\n",
       "      <th>11</th>\n",
       "      <td>UserTesting-1558119H</td>\n",
       "      <td>OK so let's see here.  There you go wonder wh...</td>\n",
       "    </tr>\n",
       "    <tr>\n",
       "      <th>12</th>\n",
       "      <td>UserTesting-1558119I</td>\n",
       "      <td>OK so I'm shopping for a car see my child's w...</td>\n",
       "    </tr>\n",
       "    <tr>\n",
       "      <th>13</th>\n",
       "      <td>UserTesting-1558119J</td>\n",
       "      <td>OK it says Here's the Babies R Us car seat fi...</td>\n",
       "    </tr>\n",
       "    <tr>\n",
       "      <th>14</th>\n",
       "      <td>UserTesting-1573737A</td>\n",
       "      <td>Let's see the page is very open it gives a wi...</td>\n",
       "    </tr>\n",
       "    <tr>\n",
       "      <th>15</th>\n",
       "      <td>UserTesting-1573737B</td>\n",
       "      <td>Use the Babies R Us proceed in the first week...</td>\n",
       "    </tr>\n",
       "    <tr>\n",
       "      <th>16</th>\n",
       "      <td>UserTesting-1573737C</td>\n",
       "      <td>Used to be these are US car seat finder to fi...</td>\n",
       "    </tr>\n",
       "    <tr>\n",
       "      <th>17</th>\n",
       "      <td>UserTesting-1573737D</td>\n",
       "      <td>OK I'm waiting for the site to load and doesn...</td>\n",
       "    </tr>\n",
       "    <tr>\n",
       "      <th>18</th>\n",
       "      <td>UserTesting-1573737E</td>\n",
       "      <td>Use the Babies R Us car seat finder to find a...</td>\n",
       "    </tr>\n",
       "    <tr>\n",
       "      <th>19</th>\n",
       "      <td>UserTesting-1573737F</td>\n",
       "      <td>So you use the baby hours to find the car for...</td>\n",
       "    </tr>\n",
       "    <tr>\n",
       "      <th>20</th>\n",
       "      <td>UserTesting-1573737G</td>\n",
       "      <td>OK.  You see babies are a curse finder you fi...</td>\n",
       "    </tr>\n",
       "    <tr>\n",
       "      <th>21</th>\n",
       "      <td>UserTesting-1573737H</td>\n",
       "      <td>Use Babies R Us for car seat finder to find a...</td>\n",
       "    </tr>\n",
       "    <tr>\n",
       "      <th>22</th>\n",
       "      <td>UserTesting-1573737I</td>\n",
       "      <td>He's the Babies R Us car seat finder to find ...</td>\n",
       "    </tr>\n",
       "    <tr>\n",
       "      <th>23</th>\n",
       "      <td>UserTesting-1573737J</td>\n",
       "      <td>OK I'm looking at the website for car seats. ...</td>\n",
       "    </tr>\n",
       "    <tr>\n",
       "      <th>24</th>\n",
       "      <td>UserTesting-1575117A</td>\n",
       "      <td>Car seat the best meets your needs.  Would yo...</td>\n",
       "    </tr>\n",
       "  </tbody>\n",
       "</table>\n",
       "</div>"
      ],
      "text/plain": [
       "                       0                                                  1\n",
       "0   UserTesting-1392254A   OK so I have to find a laptop the best meets ...\n",
       "1   UserTesting-1392254B   AND I'M ALREADY.  Ok to start.  Very well opt...\n",
       "2   UserTesting-1392254C   OK so I'm looking for a laptop because I've s...\n",
       "3   UserTesting-1392254D   OK so I have opened up here to median Medion ...\n",
       "4   UserTesting-1558119A   Now you use the because you're asked her see ...\n",
       "5   UserTesting-1558119B   Well it started used to babies or Iscar sci f...\n",
       "6   UserTesting-1558119C   OK shopping for baby car seats today.  It loo...\n",
       "7   UserTesting-1558119D   Yeah you see that these are US car seat or wh...\n",
       "8   UserTesting-1558119E   OK now here's the Babies R Us car seat finder...\n",
       "9   UserTesting-1558119F   OK here I am on the car seat finder.  So I'm ...\n",
       "10  UserTesting-1558119G   OK so now I'm starting to search the internet...\n",
       "11  UserTesting-1558119H   OK so let's see here.  There you go wonder wh...\n",
       "12  UserTesting-1558119I   OK so I'm shopping for a car see my child's w...\n",
       "13  UserTesting-1558119J   OK it says Here's the Babies R Us car seat fi...\n",
       "14  UserTesting-1573737A   Let's see the page is very open it gives a wi...\n",
       "15  UserTesting-1573737B   Use the Babies R Us proceed in the first week...\n",
       "16  UserTesting-1573737C   Used to be these are US car seat finder to fi...\n",
       "17  UserTesting-1573737D   OK I'm waiting for the site to load and doesn...\n",
       "18  UserTesting-1573737E   Use the Babies R Us car seat finder to find a...\n",
       "19  UserTesting-1573737F   So you use the baby hours to find the car for...\n",
       "20  UserTesting-1573737G   OK.  You see babies are a curse finder you fi...\n",
       "21  UserTesting-1573737H   Use Babies R Us for car seat finder to find a...\n",
       "22  UserTesting-1573737I   He's the Babies R Us car seat finder to find ...\n",
       "23  UserTesting-1573737J   OK I'm looking at the website for car seats. ...\n",
       "24  UserTesting-1575117A   Car seat the best meets your needs.  Would yo..."
      ]
     },
     "execution_count": 7,
     "metadata": {},
     "output_type": "execute_result"
    }
   ],
   "source": [
    "product_ut_csv = '/Users/boydbrown/Cross_Capture_Sentiment_Analysis/omni_retail_project/data/analysis_base_tables/ut_transcriptions.csv'\n",
    "df = pd.read_csv(product_ut_csv, header=None)\n",
    "df.head(25)"
   ]
  },
  {
   "cell_type": "code",
   "execution_count": null,
   "metadata": {
    "collapsed": true
   },
   "outputs": [],
   "source": []
  },
  {
   "cell_type": "markdown",
   "metadata": {},
   "source": [
    "### Stop!!! Think! Do you want to clear your production csv?!"
   ]
  },
  {
   "cell_type": "code",
   "execution_count": 4,
   "metadata": {
    "collapsed": false
   },
   "outputs": [
    {
     "data": {
      "text/plain": [
       "''"
      ]
     },
     "execution_count": 4,
     "metadata": {},
     "output_type": "execute_result"
    }
   ],
   "source": [
    "f = open(product_ut_csv, \"w\")\n",
    "f.truncate()\n",
    "f.close()\n",
    "f = open(product_ut_csv, \"r\")\n",
    "f.read()"
   ]
  },
  {
   "cell_type": "markdown",
   "metadata": {},
   "source": [
    "#### Regex awesomeness"
   ]
  },
  {
   "cell_type": "code",
   "execution_count": null,
   "metadata": {
    "collapsed": false
   },
   "outputs": [],
   "source": [
    "import re"
   ]
  },
  {
   "cell_type": "code",
   "execution_count": null,
   "metadata": {
    "collapsed": false
   },
   "outputs": [],
   "source": [
    "regex_test_text = open('/Users/boydbrown/Desktop/voice_base_text_test/UserTesting-1862904A.rtf', 'r')\n",
    "regex_test_text = regex_test_text.read()\n",
    "print regex_test_text"
   ]
  },
  {
   "cell_type": "code",
   "execution_count": null,
   "metadata": {
    "collapsed": false
   },
   "outputs": [],
   "source": [
    "m = re.match(\".*cf0(.*)\\}\", regex_test_text, re.DOTALL)"
   ]
  },
  {
   "cell_type": "code",
   "execution_count": null,
   "metadata": {
    "collapsed": false
   },
   "outputs": [],
   "source": [
    "m.groups()[0]"
   ]
  },
  {
   "cell_type": "code",
   "execution_count": null,
   "metadata": {
    "collapsed": false
   },
   "outputs": [],
   "source": [
    "m.groups()[0]"
   ]
  },
  {
   "cell_type": "code",
   "execution_count": null,
   "metadata": {
    "collapsed": false
   },
   "outputs": [],
   "source": [
    "test_text = '/Users/boydbrown/Desktop/voice_base_text_test/UserTesting-1862904C.rtf'\n",
    "test_csv ='/Users/boydbrown/Desktop/voice_base_text_test/test.csv'\n",
    "with open(test_text, 'r') as f1:\n",
    "    with open(test_csv, 'a') as f2:\n",
    "        f1_line = f1.read()\n",
    "        m = re.match(\".*f1(.*)\\}\\r\\n\", f1_line, re.DOTALL)\n",
    "        f2.write(m.groups()[0])"
   ]
  },
  {
   "cell_type": "code",
   "execution_count": null,
   "metadata": {
    "collapsed": true
   },
   "outputs": [],
   "source": []
  }
 ],
 "metadata": {
  "kernelspec": {
   "display_name": "Python [Root]",
   "language": "python",
   "name": "Python [Root]"
  },
  "language_info": {
   "codemirror_mode": {
    "name": "ipython",
    "version": 2
   },
   "file_extension": ".py",
   "mimetype": "text/x-python",
   "name": "python",
   "nbconvert_exporter": "python",
   "pygments_lexer": "ipython2",
   "version": "2.7.12"
  }
 },
 "nbformat": 4,
 "nbformat_minor": 0
}
